{
 "cells": [
  {
   "cell_type": "code",
   "execution_count": 1,
   "metadata": {
    "collapsed": false
   },
   "outputs": [
   ],
   "source": [
    "import numpy as np\n",
    "import pandas as pd\n",
    "import seaborn as sns\n",
    "import plotly.express as px\n",
    "import matplotlib.pyplot as plt\n",
    "from sklearn.metrics import recall_score"
   ]
  },
  {
   "cell_type": "code",
   "execution_count": 2,
   "metadata": {
    "collapsed": false
   },
   "outputs": [
   ],
   "source": [
    "df = pd.read_csv('heart.csv')"
   ]
  },
  {
   "cell_type": "code",
   "execution_count": 3,
   "metadata": {
    "collapsed": false
   },
   "outputs": [
   ],
   "source": [
    "from sklearn.preprocessing import StandardScaler\n",
    "from sklearn.model_selection import train_test_split"
   ]
  },
  {
   "cell_type": "code",
   "execution_count": 4,
   "metadata": {
    "collapsed": false
   },
   "outputs": [
   ],
   "source": [
    "q1 = df.chol.quantile(0.25)\n",
    "q3 = df.chol.quantile(0.75)\n",
    "IQR = q3 - q1\n",
    "lower_limit = q1 - 1.5 * IQR\n",
    "upper_limit = q3 + 1.5 * IQR\n",
    "df=df[df[\"chol\"] < upper_limit]"
   ]
  },
  {
   "cell_type": "code",
   "execution_count": 5,
   "metadata": {
    "collapsed": false
   },
   "outputs": [
   ],
   "source": [
    "q1 = df.trestbps.quantile(0.25)\n",
    "q3 = df.trestbps.quantile(0.75)\n",
    "IQR = q3 - q1\n",
    "lower_limit = q1 - 1.5 * IQR\n",
    "upper_limit = q3 + 1.5 * IQR\n",
    "df=df[df[\"trestbps\"] < upper_limit]"
   ]
  },
  {
   "cell_type": "code",
   "execution_count": 6,
   "metadata": {
    "collapsed": false
   },
   "outputs": [
   ],
   "source": [
    "q1 = df.thalach.quantile(0.25)\n",
    "q3 = df.thalach.quantile(0.75)\n",
    "IQR = q3 - q1\n",
    "lower_limit = q1 - 1.5 * IQR\n",
    "df=df[df[\"thalach\"] > lower_limit]"
   ]
  },
  {
   "cell_type": "code",
   "execution_count": 7,
   "metadata": {
    "collapsed": false
   },
   "outputs": [
   ],
   "source": [
    "oldpeak_q1 = df.oldpeak.quantile(0.25)\n",
    "oldpeak_q3 = df.oldpeak.quantile(0.75)\n",
    "oldpeak_IQR = oldpeak_q3 - oldpeak_q1\n",
    "oldpeak_lower_limit = oldpeak_q1 - 1.5 * oldpeak_IQR\n",
    "oldpeak_upper_limit = oldpeak_q3 + 1.5 * oldpeak_IQR\n",
    "df=df[df[\"oldpeak\"] < oldpeak_upper_limit]"
   ]
  },
  {
   "cell_type": "code",
   "execution_count": 8,
   "metadata": {
    "collapsed": false
   },
   "outputs": [
    {
     "data": {
      "text/plain": [
       "<AxesSubplot:>"
      ]
     },
     "execution_count": 8,
     "metadata": {
     },
     "output_type": "execute_result"
    },
    {
     "data": {
      "image/png": "[encoded data removed]",
      "text/plain": [
       "<Figure size 1080x360 with 1 Axes>"
      ]
     },
     "execution_count": 8,
     "metadata": {
      "needs_background": "light"
     },
     "output_type": "execute_result"
    }
   ],
   "source": [
    "plt.figure(figsize=(15,5))\n",
    "sns.boxplot(data=df,orient='h')"
   ]
  },
  {
   "cell_type": "code",
   "execution_count": 9,
   "metadata": {
    "collapsed": false
   },
   "outputs": [
   ],
   "source": [
    "y = df[\"target\"]\n",
    "x = df.drop(\"target\", axis = 1)\n",
    "x_train, x_test, y_train, y_test = train_test_split(x, y, test_size=0.2, random_state = 42)"
   ]
  },
  {
   "cell_type": "code",
   "execution_count": 10,
   "metadata": {
    "collapsed": false
   },
   "outputs": [
   ],
   "source": [
    "scaler = StandardScaler()\n",
    "x_train = scaler.fit_transform(x_train)\n",
    "x_test = scaler.transform(x_test)"
   ]
  },
  {
   "cell_type": "code",
   "execution_count": 11,
   "metadata": {
    "collapsed": false
   },
   "outputs": [
    {
     "data": {
      "text/plain": [
       "array([1, 1, 0, 0, 0, 1, 1, 1, 0, 0, 0, 1, 0, 0, 0, 0, 1, 1, 1, 1, 0, 1,\n",
       "       0, 0, 1, 1, 0, 0, 1, 0, 1, 1, 0, 1, 1, 0, 0, 1, 1, 0, 1, 0, 0, 1,\n",
       "       1, 1, 0, 1, 0, 0, 1, 1, 1, 0, 0, 1, 0, 0, 1, 1, 1, 0, 0, 0, 0, 1,\n",
       "       1, 1, 1, 1, 1, 1, 0, 0, 1, 1, 1, 0, 1, 0, 0, 0, 0, 0, 1, 1, 1, 1,\n",
       "       0, 1, 1, 0, 0, 1, 1, 0, 0, 0, 1, 1, 1, 0, 0, 0, 1, 0, 0, 1, 1, 1,\n",
       "       0, 1, 1, 0, 1, 0, 1, 0, 1, 0, 1, 1, 1, 0, 0, 0, 1, 0, 1, 1, 1, 1,\n",
       "       1, 0, 0, 1, 1, 1, 0, 1, 1, 0, 1, 1, 0, 0, 1, 1, 1, 0, 1, 0, 1, 1,\n",
       "       1, 1, 1, 0, 1, 1, 0, 0, 1, 0, 0, 1, 1, 1, 0, 1, 1, 0, 0, 1, 1, 1,\n",
       "       1, 0, 1, 1, 0, 0, 1, 0, 1, 0, 0, 0, 1])"
      ]
     },
     "execution_count": 11,
     "metadata": {
     },
     "output_type": "execute_result"
    }
   ],
   "source": [
    "from sklearn.ensemble import RandomForestClassifier\n",
    "Forest_Model = RandomForestClassifier(n_estimators = 100, oob_score = True, n_jobs = 1, random_state = 1)\n",
    "Forest_Model.fit(x_train, y_train)\n",
    "y_hat_forest = Forest_Model.predict(x_test)\n",
    "y_hat_forest"
   ]
  },
  {
   "cell_type": "code",
   "execution_count": 12,
   "metadata": {
    "collapsed": false
   },
   "outputs": [
    {
     "data": {
      "text/plain": [
       "array([1, 1, 0, 0, 0, 1, 1, 1, 0, 0, 0, 1, 0, 0, 0, 1, 1, 1, 1, 1, 0, 1,\n",
       "       0, 0, 1, 1, 0, 0, 1, 0, 1, 1, 0, 1, 1, 0, 0, 1, 1, 0, 1, 0, 0, 1,\n",
       "       1, 1, 0, 1, 0, 0, 1, 1, 1, 0, 0, 1, 0, 1, 1, 1, 1, 0, 0, 0, 0, 1,\n",
       "       1, 1, 1, 1, 1, 1, 0, 0, 1, 1, 1, 0, 1, 0, 0, 0, 0, 0, 1, 1, 1, 1,\n",
       "       0, 1, 1, 0, 0, 1, 1, 0, 0, 0, 1, 1, 1, 0, 0, 0, 1, 0, 0, 1, 1, 1,\n",
       "       0, 1, 1, 0, 1, 0, 1, 0, 1, 0, 1, 1, 1, 0, 0, 0, 1, 0, 1, 1, 1, 1,\n",
       "       1, 0, 0, 1, 1, 1, 0, 1, 1, 0, 1, 1, 0, 0, 1, 1, 1, 0, 1, 0, 1, 1,\n",
       "       1, 1, 1, 0, 1, 1, 0, 0, 1, 0, 0, 1, 1, 1, 0, 1, 1, 0, 0, 1, 1, 1,\n",
       "       1, 0, 1, 1, 0, 0, 1, 0, 1, 0, 0, 1, 1])"
      ]
     },
     "execution_count": 12,
     "metadata": {
     },
     "output_type": "execute_result"
    }
   ],
   "source": [
    "np.array(y_test)"
   ]
  },
  {
   "cell_type": "code",
   "execution_count": 13,
   "metadata": {
    "collapsed": false
   },
   "outputs": [
   ],
   "source": [
    "from sklearn.metrics import confusion_matrix\n",
    "import seaborn as sns"
   ]
  },
  {
   "cell_type": "code",
   "execution_count": 14,
   "metadata": {
    "collapsed": false
   },
   "outputs": [
    {
     "data": {
      "text/plain": [
       "<AxesSubplot:>"
      ]
     },
     "execution_count": 14,
     "metadata": {
     },
     "output_type": "execute_result"
    },
    {
     "data": {
      "image/png": "[encoded data removed]",
      "text/plain": [
       "<Figure size 432x288 with 2 Axes>"
      ]
     },
     "execution_count": 14,
     "metadata": {
      "needs_background": "light"
     },
     "output_type": "execute_result"
    }
   ],
   "source": [
    "sns.heatmap(confusion_matrix(y_test, y_hat_forest), annot=True, fmt='g')"
   ]
  },
  {
   "cell_type": "code",
   "execution_count": 15,
   "metadata": {
    "collapsed": false
   },
   "outputs": [
    {
     "name": "stdout",
     "output_type": "stream",
     "text": [
      "1.0\n"
     ]
    }
   ],
   "source": [
    "#Precision\n",
    "RFPrecision = 81 / (0 + 81)\n",
    "print(RFPrecision)"
   ]
  },
  {
   "cell_type": "code",
   "execution_count": 16,
   "metadata": {
    "collapsed": false
   },
   "outputs": [
    {
     "name": "stdout",
     "output_type": "stream",
     "text": [
      "0.9642857142857143\n"
     ]
    }
   ],
   "source": [
    "RFRecall = 81 / (3+81)\n",
    "print(RFRecall)"
   ]
  },
  {
   "cell_type": "code",
   "execution_count": 17,
   "metadata": {
    "collapsed": false
   },
   "outputs": [
    {
     "name": "stdout",
     "output_type": "stream",
     "text": [
      "0.9841269841269841\n"
     ]
    }
   ],
   "source": [
    "RFAccuracy = (81+105) / (81+105+3+0)\n",
    "print(RFAccuracy)"
   ]
  },
  {
   "cell_type": "code",
   "execution_count": 18,
   "metadata": {
    "collapsed": false
   },
   "outputs": [
    {
     "name": "stdout",
     "output_type": "stream",
     "text": [
      "0.9818181818181818\n"
     ]
    }
   ],
   "source": [
    "RFF1 = (2 * RFPrecision * RFRecall) / (RFPrecision + RFRecall)\n",
    "print(RFF1)"
   ]
  },
  {
   "cell_type": "code",
   "execution_count": 19,
   "metadata": {
    "collapsed": false
   },
   "outputs": [
    {
     "name": "stdout",
     "output_type": "stream",
     "text": [
      "0.015873015873015872\n"
     ]
    }
   ],
   "source": [
    "total_squared_error_RF = (np.sum((y_test - y_hat_forest)**2))\n",
    "mean_squared_error_RF = total_squared_error_RF/len(y_test)\n",
    "print(mean_squared_error_RF)\n",
    "\n"
   ]
  },
  {
   "cell_type": "code",
   "execution_count": 20,
   "metadata": {
    "collapsed": false
   },
   "outputs": [
    {
     "data": {
      "text/plain": [
       "0.9722222222222222"
      ]
     },
     "execution_count": 20,
     "metadata": {
     },
     "output_type": "execute_result"
    }
   ],
   "source": [
    "recall_score(y_test, y_hat_forest)"
   ]
  },
  {
   "cell_type": "markdown",
   "metadata": {
    "collapsed": false
   },
   "source": [
    "**Finding best parameters**\n"
   ]
  },
  {
   "cell_type": "code",
   "execution_count": 21,
   "metadata": {
    "collapsed": false
   },
   "outputs": [
   ],
   "source": [
    "from sklearn.metrics import recall_score\n",
    "from sklearn.metrics import f1_score\n",
    "import sklearn\n",
    "from sklearn.model_selection import train_test_split\n",
    "import warnings\n",
    "warnings.filterwarnings('ignore')\n",
    "\n",
    "\n"
   ]
  },
  {
   "cell_type": "code",
   "execution_count": 22,
   "metadata": {
    "collapsed": false
   },
   "outputs": [
   ],
   "source": [
    "from sklearn import svm, datasets\n",
    "from sklearn.model_selection import GridSearchCV as gs"
   ]
  },
  {
   "cell_type": "code",
   "execution_count": 0,
   "metadata": {
    "collapsed": false
   },
   "outputs": [
   ],
   "source": [
   ]
  },
  {
   "cell_type": "code",
   "execution_count": 23,
   "metadata": {
    "collapsed": false
   },
   "outputs": [
   ],
   "source": [
    "# parameters = {n_estimators:(100),  'kernel': ('linear', 'rbf'), bootstrap=False} 'C':[1,10]\n",
    "# metrics = ['recall']\n",
    "from sklearn.ensemble import RandomForestClassifier\n",
    "parameters = {'n_estimators':(50, 100), 'bootstrap':(True, False), 'min_samples_leaf':(5, 10), 'oob_score':(True, False), 'warm_start':(True, False)}\n",
    "\n",
    "# #parameters = np.array(parameters)\n",
    "# #parameters\n",
    "\n",
    "# Need couple options for params, put in listor tuple"
   ]
  },
  {
   "cell_type": "code",
   "execution_count": 24,
   "metadata": {
    "collapsed": false
   },
   "outputs": [
   ],
   "source": [
    "Forest_Model = RandomForestClassifier(n_estimators = 100, oob_score = True, n_jobs = 1, random_state = 1)\n",
    "Empty_Model = RandomForestClassifier()"
   ]
  },
  {
   "cell_type": "code",
   "execution_count": 25,
   "metadata": {
    "collapsed": false
   },
   "outputs": [
    {
     "data": {
      "text/html": [
       "<style>#sk-container-id-1 {color: black;background-color: white;}#sk-container-id-1 pre{padding: 0;}#sk-container-id-1 div.sk-toggleable {background-color: white;}#sk-container-id-1 label.sk-toggleable__label {cursor: pointer;display: block;width: 100%;margin-bottom: 0;padding: 0.3em;box-sizing: border-box;text-align: center;}#sk-container-id-1 label.sk-toggleable__label-arrow:before {content: \"▸\";float: left;margin-right: 0.25em;color: #696969;}#sk-container-id-1 label.sk-toggleable__label-arrow:hover:before {color: black;}#sk-container-id-1 div.sk-estimator:hover label.sk-toggleable__label-arrow:before {color: black;}#sk-container-id-1 div.sk-toggleable__content {max-height: 0;max-width: 0;overflow: hidden;text-align: left;background-color: #f0f8ff;}#sk-container-id-1 div.sk-toggleable__content pre {margin: 0.2em;color: black;border-radius: 0.25em;background-color: #f0f8ff;}#sk-container-id-1 input.sk-toggleable__control:checked~div.sk-toggleable__content {max-height: 200px;max-width: 100%;overflow: auto;}#sk-container-id-1 input.sk-toggleable__control:checked~label.sk-toggleable__label-arrow:before {content: \"▾\";}#sk-container-id-1 div.sk-estimator input.sk-toggleable__control:checked~label.sk-toggleable__label {background-color: #d4ebff;}#sk-container-id-1 div.sk-label input.sk-toggleable__control:checked~label.sk-toggleable__label {background-color: #d4ebff;}#sk-container-id-1 input.sk-hidden--visually {border: 0;clip: rect(1px 1px 1px 1px);clip: rect(1px, 1px, 1px, 1px);height: 1px;margin: -1px;overflow: hidden;padding: 0;position: absolute;width: 1px;}#sk-container-id-1 div.sk-estimator {font-family: monospace;background-color: #f0f8ff;border: 1px dotted black;border-radius: 0.25em;box-sizing: border-box;margin-bottom: 0.5em;}#sk-container-id-1 div.sk-estimator:hover {background-color: #d4ebff;}#sk-container-id-1 div.sk-parallel-item::after {content: \"\";width: 100%;border-bottom: 1px solid gray;flex-grow: 1;}#sk-container-id-1 div.sk-label:hover label.sk-toggleable__label {background-color: #d4ebff;}#sk-container-id-1 div.sk-serial::before {content: \"\";position: absolute;border-left: 1px solid gray;box-sizing: border-box;top: 0;bottom: 0;left: 50%;z-index: 0;}#sk-container-id-1 div.sk-serial {display: flex;flex-direction: column;align-items: center;background-color: white;padding-right: 0.2em;padding-left: 0.2em;position: relative;}#sk-container-id-1 div.sk-item {position: relative;z-index: 1;}#sk-container-id-1 div.sk-parallel {display: flex;align-items: stretch;justify-content: center;background-color: white;position: relative;}#sk-container-id-1 div.sk-item::before, #sk-container-id-1 div.sk-parallel-item::before {content: \"\";position: absolute;border-left: 1px solid gray;box-sizing: border-box;top: 0;bottom: 0;left: 50%;z-index: -1;}#sk-container-id-1 div.sk-parallel-item {display: flex;flex-direction: column;z-index: 1;position: relative;background-color: white;}#sk-container-id-1 div.sk-parallel-item:first-child::after {align-self: flex-end;width: 50%;}#sk-container-id-1 div.sk-parallel-item:last-child::after {align-self: flex-start;width: 50%;}#sk-container-id-1 div.sk-parallel-item:only-child::after {width: 0;}#sk-container-id-1 div.sk-dashed-wrapped {border: 1px dashed gray;margin: 0 0.4em 0.5em 0.4em;box-sizing: border-box;padding-bottom: 0.4em;background-color: white;}#sk-container-id-1 div.sk-label label {font-family: monospace;font-weight: bold;display: inline-block;line-height: 1.2em;}#sk-container-id-1 div.sk-label-container {text-align: center;}#sk-container-id-1 div.sk-container {/* jupyter's `normalize.less` sets `[hidden] { display: none; }` but bootstrap.min.css set `[hidden] { display: none !important; }` so we also need the `!important` here to be able to override the default hidden behavior on the sphinx rendered scikit-learn.org. See: https://github.com/scikit-learn/scikit-learn/issues/21755 */display: inline-block !important;position: relative;}#sk-container-id-1 div.sk-text-repr-fallback {display: none;}</style><div id=\"sk-container-id-1\" class=\"sk-top-container\"><div class=\"sk-text-repr-fallback\"><pre>GridSearchCV(estimator=RandomForestClassifier(),\n",
       "             param_grid={&#x27;bootstrap&#x27;: (True, False),\n",
       "                         &#x27;min_samples_leaf&#x27;: (5, 10), &#x27;n_estimators&#x27;: (50, 100),\n",
       "                         &#x27;oob_score&#x27;: (True, False),\n",
       "                         &#x27;warm_start&#x27;: (True, False)},\n",
       "             scoring=&#x27;recall&#x27;)</pre><b>In a Jupyter environment, please rerun this cell to show the HTML representation or trust the notebook. <br />On GitHub, the HTML representation is unable to render, please try loading this page with nbviewer.org.</b></div><div class=\"sk-container\" hidden><div class=\"sk-item sk-dashed-wrapped\"><div class=\"sk-label-container\"><div class=\"sk-label sk-toggleable\"><input class=\"sk-toggleable__control sk-hidden--visually\" id=\"sk-estimator-id-1\" type=\"checkbox\" ><label for=\"sk-estimator-id-1\" class=\"sk-toggleable__label sk-toggleable__label-arrow\">GridSearchCV</label><div class=\"sk-toggleable__content\"><pre>GridSearchCV(estimator=RandomForestClassifier(),\n",
       "             param_grid={&#x27;bootstrap&#x27;: (True, False),\n",
       "                         &#x27;min_samples_leaf&#x27;: (5, 10), &#x27;n_estimators&#x27;: (50, 100),\n",
       "                         &#x27;oob_score&#x27;: (True, False),\n",
       "                         &#x27;warm_start&#x27;: (True, False)},\n",
       "             scoring=&#x27;recall&#x27;)</pre></div></div></div><div class=\"sk-parallel\"><div class=\"sk-parallel-item\"><div class=\"sk-item\"><div class=\"sk-label-container\"><div class=\"sk-label sk-toggleable\"><input class=\"sk-toggleable__control sk-hidden--visually\" id=\"sk-estimator-id-2\" type=\"checkbox\" ><label for=\"sk-estimator-id-2\" class=\"sk-toggleable__label sk-toggleable__label-arrow\">estimator: RandomForestClassifier</label><div class=\"sk-toggleable__content\"><pre>RandomForestClassifier()</pre></div></div></div><div class=\"sk-serial\"><div class=\"sk-item\"><div class=\"sk-estimator sk-toggleable\"><input class=\"sk-toggleable__control sk-hidden--visually\" id=\"sk-estimator-id-3\" type=\"checkbox\" ><label for=\"sk-estimator-id-3\" class=\"sk-toggleable__label sk-toggleable__label-arrow\">RandomForestClassifier</label><div class=\"sk-toggleable__content\"><pre>RandomForestClassifier()</pre></div></div></div></div></div></div></div></div></div></div>"
      ],
      "text/plain": [
       "GridSearchCV(estimator=RandomForestClassifier(),\n",
       "             param_grid={'bootstrap': (True, False),\n",
       "                         'min_samples_leaf': (5, 10), 'n_estimators': (50, 100),\n",
       "                         'oob_score': (True, False),\n",
       "                         'warm_start': (True, False)},\n",
       "             scoring='recall')"
      ]
     },
     "execution_count": 25,
     "metadata": {
     },
     "output_type": "execute_result"
    }
   ],
   "source": [
    "svc = svm.SVC()\n",
    "clf = gs(Empty_Model, parameters, scoring = 'recall')\n",
    "clf.fit(x_train, y_train)\n",
    "\n",
    "# instance of rf class, create new var instance of empty w/ no arguments\n",
    "\n"
   ]
  },
  {
   "cell_type": "code",
   "execution_count": 26,
   "metadata": {
    "collapsed": false
   },
   "outputs": [
    {
     "data": {
      "text/html": [
       "<style>#sk-container-id-2 {color: black;background-color: white;}#sk-container-id-2 pre{padding: 0;}#sk-container-id-2 div.sk-toggleable {background-color: white;}#sk-container-id-2 label.sk-toggleable__label {cursor: pointer;display: block;width: 100%;margin-bottom: 0;padding: 0.3em;box-sizing: border-box;text-align: center;}#sk-container-id-2 label.sk-toggleable__label-arrow:before {content: \"▸\";float: left;margin-right: 0.25em;color: #696969;}#sk-container-id-2 label.sk-toggleable__label-arrow:hover:before {color: black;}#sk-container-id-2 div.sk-estimator:hover label.sk-toggleable__label-arrow:before {color: black;}#sk-container-id-2 div.sk-toggleable__content {max-height: 0;max-width: 0;overflow: hidden;text-align: left;background-color: #f0f8ff;}#sk-container-id-2 div.sk-toggleable__content pre {margin: 0.2em;color: black;border-radius: 0.25em;background-color: #f0f8ff;}#sk-container-id-2 input.sk-toggleable__control:checked~div.sk-toggleable__content {max-height: 200px;max-width: 100%;overflow: auto;}#sk-container-id-2 input.sk-toggleable__control:checked~label.sk-toggleable__label-arrow:before {content: \"▾\";}#sk-container-id-2 div.sk-estimator input.sk-toggleable__control:checked~label.sk-toggleable__label {background-color: #d4ebff;}#sk-container-id-2 div.sk-label input.sk-toggleable__control:checked~label.sk-toggleable__label {background-color: #d4ebff;}#sk-container-id-2 input.sk-hidden--visually {border: 0;clip: rect(1px 1px 1px 1px);clip: rect(1px, 1px, 1px, 1px);height: 1px;margin: -1px;overflow: hidden;padding: 0;position: absolute;width: 1px;}#sk-container-id-2 div.sk-estimator {font-family: monospace;background-color: #f0f8ff;border: 1px dotted black;border-radius: 0.25em;box-sizing: border-box;margin-bottom: 0.5em;}#sk-container-id-2 div.sk-estimator:hover {background-color: #d4ebff;}#sk-container-id-2 div.sk-parallel-item::after {content: \"\";width: 100%;border-bottom: 1px solid gray;flex-grow: 1;}#sk-container-id-2 div.sk-label:hover label.sk-toggleable__label {background-color: #d4ebff;}#sk-container-id-2 div.sk-serial::before {content: \"\";position: absolute;border-left: 1px solid gray;box-sizing: border-box;top: 0;bottom: 0;left: 50%;z-index: 0;}#sk-container-id-2 div.sk-serial {display: flex;flex-direction: column;align-items: center;background-color: white;padding-right: 0.2em;padding-left: 0.2em;position: relative;}#sk-container-id-2 div.sk-item {position: relative;z-index: 1;}#sk-container-id-2 div.sk-parallel {display: flex;align-items: stretch;justify-content: center;background-color: white;position: relative;}#sk-container-id-2 div.sk-item::before, #sk-container-id-2 div.sk-parallel-item::before {content: \"\";position: absolute;border-left: 1px solid gray;box-sizing: border-box;top: 0;bottom: 0;left: 50%;z-index: -1;}#sk-container-id-2 div.sk-parallel-item {display: flex;flex-direction: column;z-index: 1;position: relative;background-color: white;}#sk-container-id-2 div.sk-parallel-item:first-child::after {align-self: flex-end;width: 50%;}#sk-container-id-2 div.sk-parallel-item:last-child::after {align-self: flex-start;width: 50%;}#sk-container-id-2 div.sk-parallel-item:only-child::after {width: 0;}#sk-container-id-2 div.sk-dashed-wrapped {border: 1px dashed gray;margin: 0 0.4em 0.5em 0.4em;box-sizing: border-box;padding-bottom: 0.4em;background-color: white;}#sk-container-id-2 div.sk-label label {font-family: monospace;font-weight: bold;display: inline-block;line-height: 1.2em;}#sk-container-id-2 div.sk-label-container {text-align: center;}#sk-container-id-2 div.sk-container {/* jupyter's `normalize.less` sets `[hidden] { display: none; }` but bootstrap.min.css set `[hidden] { display: none !important; }` so we also need the `!important` here to be able to override the default hidden behavior on the sphinx rendered scikit-learn.org. See: https://github.com/scikit-learn/scikit-learn/issues/21755 */display: inline-block !important;position: relative;}#sk-container-id-2 div.sk-text-repr-fallback {display: none;}</style><div id=\"sk-container-id-2\" class=\"sk-top-container\"><div class=\"sk-text-repr-fallback\"><pre>RandomForestClassifier(bootstrap=False, min_samples_leaf=5, n_estimators=50,\n",
       "                       warm_start=True)</pre><b>In a Jupyter environment, please rerun this cell to show the HTML representation or trust the notebook. <br />On GitHub, the HTML representation is unable to render, please try loading this page with nbviewer.org.</b></div><div class=\"sk-container\" hidden><div class=\"sk-item\"><div class=\"sk-estimator sk-toggleable\"><input class=\"sk-toggleable__control sk-hidden--visually\" id=\"sk-estimator-id-4\" type=\"checkbox\" checked><label for=\"sk-estimator-id-4\" class=\"sk-toggleable__label sk-toggleable__label-arrow\">RandomForestClassifier</label><div class=\"sk-toggleable__content\"><pre>RandomForestClassifier(bootstrap=False, min_samples_leaf=5, n_estimators=50,\n",
       "                       warm_start=True)</pre></div></div></div></div></div>"
      ],
      "text/plain": [
       "RandomForestClassifier(bootstrap=False, min_samples_leaf=5, n_estimators=50,\n",
       "                       warm_start=True)"
      ]
     },
     "execution_count": 26,
     "metadata": {
     },
     "output_type": "execute_result"
    }
   ],
   "source": [
    "clf.best_estimator_"
   ]
  },
  {
   "cell_type": "code",
   "execution_count": 27,
   "metadata": {
    "collapsed": false
   },
   "outputs": [
    {
     "data": {
      "text/plain": [
       "{'bootstrap': False,\n",
       " 'min_samples_leaf': 5,\n",
       " 'n_estimators': 50,\n",
       " 'oob_score': False,\n",
       " 'warm_start': True}"
      ]
     },
     "execution_count": 27,
     "metadata": {
     },
     "output_type": "execute_result"
    }
   ],
   "source": [
    "clf.best_params_\n",
    "# Best params so far: {'bootstrap': False, 'min_samples_leaf': 5, 'n_estimators': 50, 'oob_score': False,'warm_start': True}"
   ]
  },
  {
   "cell_type": "code",
   "execution_count": 28,
   "metadata": {
    "collapsed": false
   },
   "outputs": [
    {
     "data": {
      "text/plain": [
       "0.9697151898734176"
      ]
     },
     "execution_count": 28,
     "metadata": {
     },
     "output_type": "execute_result"
    }
   ],
   "source": [
    "clf.best_score_"
   ]
  },
  {
   "cell_type": "code",
   "execution_count": 29,
   "metadata": {
    "collapsed": false
   },
   "outputs": [
   ],
   "source": [
    "#Best Model\n",
    "parameters = {'n_estimators':(50), 'bootstrap':(False), 'min_samples_leaf':(5),'oob_score':(False), 'warm_start':(True)}\n",
    "\n"
   ]
  },
  {
   "cell_type": "code",
   "execution_count": 30,
   "metadata": {
    "collapsed": false,
    "scrolled": true
   },
   "outputs": [
    {
     "data": {
      "text/plain": [
       "{'mean_fit_time': array([0.12709875, 0.12587357, 0.13146801, 0.09589314, 0.25749006,\n",
       "        0.25493488, 0.20207176, 0.20102744, 0.1217751 , 0.12446661,\n",
       "        0.09491587, 0.10405378, 0.24778771, 0.33611035, 0.26817784,\n",
       "        0.30129957, 0.00285897, 0.00439553, 0.1298799 , 0.07935948,\n",
       "        0.00059428, 0.00054874, 0.15817952, 0.15162096, 0.00062828,\n",
       "        0.00091639, 0.15390301, 0.08900981, 0.00060854, 0.00055857,\n",
       "        0.16055989, 0.20687199]),\n",
       " 'std_fit_time': array([3.41474377e-03, 1.98570837e-03, 7.37340841e-02, 4.49824127e-03,\n",
       "        2.77988385e-02, 1.99328195e-02, 2.97821363e-02, 2.15051066e-02,\n",
       "        1.92318574e-03, 4.16462631e-03, 2.48136069e-03, 2.10018374e-02,\n",
       "        1.08094074e-02, 1.38787984e-01, 7.30825431e-02, 1.74155803e-01,\n",
       "        3.81208363e-03, 3.62862754e-03, 1.01543577e-01, 2.85349137e-03,\n",
       "        7.74172110e-05, 3.50391287e-05, 1.24634779e-02, 1.91290799e-03,\n",
       "        6.21680091e-05, 1.94066959e-04, 1.17742619e-01, 1.50419494e-02,\n",
       "        1.11786191e-04, 3.99410258e-05, 2.59268533e-02, 9.16294167e-02]),\n",
       " 'mean_score_time': array([0.00774956, 0.00727406, 0.00753384, 0.00698047, 0.01254315,\n",
       "        0.01258721, 0.01277027, 0.01324739, 0.00690207, 0.00710258,\n",
       "        0.00814085, 0.00772882, 0.01350088, 0.02290134, 0.02236161,\n",
       "        0.02555466, 0.        , 0.        , 0.00968466, 0.00767913,\n",
       "        0.        , 0.        , 0.013624  , 0.01299968, 0.        ,\n",
       "        0.        , 0.01087985, 0.00999088, 0.        , 0.        ,\n",
       "        0.0138123 , 0.01331944]),\n",
       " 'std_score_time': array([3.97165023e-04, 1.88557933e-04, 1.03968385e-03, 2.05670949e-04,\n",
       "        1.37755061e-04, 4.73482793e-04, 1.17301676e-03, 1.21596519e-03,\n",
       "        6.22535701e-05, 2.84067652e-04, 1.48646842e-03, 1.04067874e-03,\n",
       "        2.35086084e-03, 1.29616050e-02, 1.40313748e-02, 1.41785290e-02,\n",
       "        0.00000000e+00, 0.00000000e+00, 2.97255627e-03, 8.13768520e-04,\n",
       "        0.00000000e+00, 0.00000000e+00, 1.75618080e-03, 9.50717809e-04,\n",
       "        0.00000000e+00, 0.00000000e+00, 6.23724672e-03, 2.36395060e-03,\n",
       "        0.00000000e+00, 0.00000000e+00, 1.77101165e-03, 1.85396445e-03]),\n",
       " 'param_bootstrap': masked_array(data=[True, True, True, True, True, True, True, True, True,\n",
       "                    True, True, True, True, True, True, True, False, False,\n",
       "                    False, False, False, False, False, False, False, False,\n",
       "                    False, False, False, False, False, False],\n",
       "              mask=[False, False, False, False, False, False, False, False,\n",
       "                    False, False, False, False, False, False, False, False,\n",
       "                    False, False, False, False, False, False, False, False,\n",
       "                    False, False, False, False, False, False, False, False],\n",
       "        fill_value='?',\n",
       "             dtype=object),\n",
       " 'param_min_samples_leaf': masked_array(data=[5, 5, 5, 5, 5, 5, 5, 5, 10, 10, 10, 10, 10, 10, 10, 10,\n",
       "                    5, 5, 5, 5, 5, 5, 5, 5, 10, 10, 10, 10, 10, 10, 10, 10],\n",
       "              mask=[False, False, False, False, False, False, False, False,\n",
       "                    False, False, False, False, False, False, False, False,\n",
       "                    False, False, False, False, False, False, False, False,\n",
       "                    False, False, False, False, False, False, False, False],\n",
       "        fill_value='?',\n",
       "             dtype=object),\n",
       " 'param_n_estimators': masked_array(data=[50, 50, 50, 50, 100, 100, 100, 100, 50, 50, 50, 50,\n",
       "                    100, 100, 100, 100, 50, 50, 50, 50, 100, 100, 100, 100,\n",
       "                    50, 50, 50, 50, 100, 100, 100, 100],\n",
       "              mask=[False, False, False, False, False, False, False, False,\n",
       "                    False, False, False, False, False, False, False, False,\n",
       "                    False, False, False, False, False, False, False, False,\n",
       "                    False, False, False, False, False, False, False, False],\n",
       "        fill_value='?',\n",
       "             dtype=object),\n",
       " 'param_oob_score': masked_array(data=[True, True, False, False, True, True, False, False,\n",
       "                    True, True, False, False, True, True, False, False,\n",
       "                    True, True, False, False, True, True, False, False,\n",
       "                    True, True, False, False, True, True, False, False],\n",
       "              mask=[False, False, False, False, False, False, False, False,\n",
       "                    False, False, False, False, False, False, False, False,\n",
       "                    False, False, False, False, False, False, False, False,\n",
       "                    False, False, False, False, False, False, False, False],\n",
       "        fill_value='?',\n",
       "             dtype=object),\n",
       " 'param_warm_start': masked_array(data=[True, False, True, False, True, False, True, False,\n",
       "                    True, False, True, False, True, False, True, False,\n",
       "                    True, False, True, False, True, False, True, False,\n",
       "                    True, False, True, False, True, False, True, False],\n",
       "              mask=[False, False, False, False, False, False, False, False,\n",
       "                    False, False, False, False, False, False, False, False,\n",
       "                    False, False, False, False, False, False, False, False,\n",
       "                    False, False, False, False, False, False, False, False],\n",
       "        fill_value='?',\n",
       "             dtype=object),\n",
       " 'params': [{'bootstrap': True,\n",
       "   'min_samples_leaf': 5,\n",
       "   'n_estimators': 50,\n",
       "   'oob_score': True,\n",
       "   'warm_start': True},\n",
       "  {'bootstrap': True,\n",
       "   'min_samples_leaf': 5,\n",
       "   'n_estimators': 50,\n",
       "   'oob_score': True,\n",
       "   'warm_start': False},\n",
       "  {'bootstrap': True,\n",
       "   'min_samples_leaf': 5,\n",
       "   'n_estimators': 50,\n",
       "   'oob_score': False,\n",
       "   'warm_start': True},\n",
       "  {'bootstrap': True,\n",
       "   'min_samples_leaf': 5,\n",
       "   'n_estimators': 50,\n",
       "   'oob_score': False,\n",
       "   'warm_start': False},\n",
       "  {'bootstrap': True,\n",
       "   'min_samples_leaf': 5,\n",
       "   'n_estimators': 100,\n",
       "   'oob_score': True,\n",
       "   'warm_start': True},\n",
       "  {'bootstrap': True,\n",
       "   'min_samples_leaf': 5,\n",
       "   'n_estimators': 100,\n",
       "   'oob_score': True,\n",
       "   'warm_start': False},\n",
       "  {'bootstrap': True,\n",
       "   'min_samples_leaf': 5,\n",
       "   'n_estimators': 100,\n",
       "   'oob_score': False,\n",
       "   'warm_start': True},\n",
       "  {'bootstrap': True,\n",
       "   'min_samples_leaf': 5,\n",
       "   'n_estimators': 100,\n",
       "   'oob_score': False,\n",
       "   'warm_start': False},\n",
       "  {'bootstrap': True,\n",
       "   'min_samples_leaf': 10,\n",
       "   'n_estimators': 50,\n",
       "   'oob_score': True,\n",
       "   'warm_start': True},\n",
       "  {'bootstrap': True,\n",
       "   'min_samples_leaf': 10,\n",
       "   'n_estimators': 50,\n",
       "   'oob_score': True,\n",
       "   'warm_start': False},\n",
       "  {'bootstrap': True,\n",
       "   'min_samples_leaf': 10,\n",
       "   'n_estimators': 50,\n",
       "   'oob_score': False,\n",
       "   'warm_start': True},\n",
       "  {'bootstrap': True,\n",
       "   'min_samples_leaf': 10,\n",
       "   'n_estimators': 50,\n",
       "   'oob_score': False,\n",
       "   'warm_start': False},\n",
       "  {'bootstrap': True,\n",
       "   'min_samples_leaf': 10,\n",
       "   'n_estimators': 100,\n",
       "   'oob_score': True,\n",
       "   'warm_start': True},\n",
       "  {'bootstrap': True,\n",
       "   'min_samples_leaf': 10,\n",
       "   'n_estimators': 100,\n",
       "   'oob_score': True,\n",
       "   'warm_start': False},\n",
       "  {'bootstrap': True,\n",
       "   'min_samples_leaf': 10,\n",
       "   'n_estimators': 100,\n",
       "   'oob_score': False,\n",
       "   'warm_start': True},\n",
       "  {'bootstrap': True,\n",
       "   'min_samples_leaf': 10,\n",
       "   'n_estimators': 100,\n",
       "   'oob_score': False,\n",
       "   'warm_start': False},\n",
       "  {'bootstrap': False,\n",
       "   'min_samples_leaf': 5,\n",
       "   'n_estimators': 50,\n",
       "   'oob_score': True,\n",
       "   'warm_start': True},\n",
       "  {'bootstrap': False,\n",
       "   'min_samples_leaf': 5,\n",
       "   'n_estimators': 50,\n",
       "   'oob_score': True,\n",
       "   'warm_start': False},\n",
       "  {'bootstrap': False,\n",
       "   'min_samples_leaf': 5,\n",
       "   'n_estimators': 50,\n",
       "   'oob_score': False,\n",
       "   'warm_start': True},\n",
       "  {'bootstrap': False,\n",
       "   'min_samples_leaf': 5,\n",
       "   'n_estimators': 50,\n",
       "   'oob_score': False,\n",
       "   'warm_start': False},\n",
       "  {'bootstrap': False,\n",
       "   'min_samples_leaf': 5,\n",
       "   'n_estimators': 100,\n",
       "   'oob_score': True,\n",
       "   'warm_start': True},\n",
       "  {'bootstrap': False,\n",
       "   'min_samples_leaf': 5,\n",
       "   'n_estimators': 100,\n",
       "   'oob_score': True,\n",
       "   'warm_start': False},\n",
       "  {'bootstrap': False,\n",
       "   'min_samples_leaf': 5,\n",
       "   'n_estimators': 100,\n",
       "   'oob_score': False,\n",
       "   'warm_start': True},\n",
       "  {'bootstrap': False,\n",
       "   'min_samples_leaf': 5,\n",
       "   'n_estimators': 100,\n",
       "   'oob_score': False,\n",
       "   'warm_start': False},\n",
       "  {'bootstrap': False,\n",
       "   'min_samples_leaf': 10,\n",
       "   'n_estimators': 50,\n",
       "   'oob_score': True,\n",
       "   'warm_start': True},\n",
       "  {'bootstrap': False,\n",
       "   'min_samples_leaf': 10,\n",
       "   'n_estimators': 50,\n",
       "   'oob_score': True,\n",
       "   'warm_start': False},\n",
       "  {'bootstrap': False,\n",
       "   'min_samples_leaf': 10,\n",
       "   'n_estimators': 50,\n",
       "   'oob_score': False,\n",
       "   'warm_start': True},\n",
       "  {'bootstrap': False,\n",
       "   'min_samples_leaf': 10,\n",
       "   'n_estimators': 50,\n",
       "   'oob_score': False,\n",
       "   'warm_start': False},\n",
       "  {'bootstrap': False,\n",
       "   'min_samples_leaf': 10,\n",
       "   'n_estimators': 100,\n",
       "   'oob_score': True,\n",
       "   'warm_start': True},\n",
       "  {'bootstrap': False,\n",
       "   'min_samples_leaf': 10,\n",
       "   'n_estimators': 100,\n",
       "   'oob_score': True,\n",
       "   'warm_start': False},\n",
       "  {'bootstrap': False,\n",
       "   'min_samples_leaf': 10,\n",
       "   'n_estimators': 100,\n",
       "   'oob_score': False,\n",
       "   'warm_start': True},\n",
       "  {'bootstrap': False,\n",
       "   'min_samples_leaf': 10,\n",
       "   'n_estimators': 100,\n",
       "   'oob_score': False,\n",
       "   'warm_start': False}],\n",
       " 'split0_test_score': array([0.9375, 0.9625, 0.95  , 0.95  , 0.9625, 0.95  , 0.9625, 0.9625,\n",
       "        0.9375, 0.9375, 0.9375, 0.925 , 0.9375, 0.9375, 0.925 , 0.925 ,\n",
       "           nan,    nan, 0.9625, 0.9625,    nan,    nan, 0.9625, 0.9625,\n",
       "           nan,    nan, 0.9375, 0.95  ,    nan,    nan, 0.9375, 0.9375]),\n",
       " 'split1_test_score': array([0.94936709, 0.98734177, 0.98734177, 0.97468354, 0.98734177,\n",
       "        0.98734177, 0.97468354, 0.98734177, 0.98734177, 0.94936709,\n",
       "        0.96202532, 0.98734177, 0.94936709, 0.98734177, 0.97468354,\n",
       "        0.98734177,        nan,        nan, 0.98734177, 0.96202532,\n",
       "               nan,        nan, 0.96202532, 0.98734177,        nan,\n",
       "               nan, 0.97468354, 0.98734177,        nan,        nan,\n",
       "        0.97468354, 0.98734177]),\n",
       " 'split2_test_score': array([0.92405063, 0.93670886, 0.92405063, 0.93670886, 0.89873418,\n",
       "        0.94936709, 0.92405063, 0.92405063, 0.88607595, 0.86075949,\n",
       "        0.91139241, 0.88607595, 0.89873418, 0.88607595, 0.89873418,\n",
       "        0.91139241,        nan,        nan, 0.97468354, 0.94936709,\n",
       "               nan,        nan, 0.97468354, 0.96202532,        nan,\n",
       "               nan, 0.92405063, 0.97468354,        nan,        nan,\n",
       "        0.92405063, 0.94936709]),\n",
       " 'split3_test_score': array([0.84810127, 0.86075949, 0.92405063, 0.91139241, 0.89873418,\n",
       "        0.87341772, 0.88607595, 0.87341772, 0.82278481, 0.81012658,\n",
       "        0.84810127, 0.84810127, 0.83544304, 0.84810127, 0.83544304,\n",
       "        0.82278481,        nan,        nan, 0.92405063, 0.92405063,\n",
       "               nan,        nan, 0.92405063, 0.93670886,        nan,\n",
       "               nan, 0.88607595, 0.88607595,        nan,        nan,\n",
       "        0.89873418, 0.88607595]),\n",
       " 'split4_test_score': array([0.97468354, 0.97468354, 0.97468354, 0.97468354, 0.97468354,\n",
       "        0.98734177, 0.98734177, 0.97468354, 0.97468354, 0.94936709,\n",
       "        0.93670886, 0.94936709, 0.96202532, 0.96202532, 0.97468354,\n",
       "        0.97468354,        nan,        nan, 1.        , 0.98734177,\n",
       "               nan,        nan, 0.98734177, 1.        ,        nan,\n",
       "               nan, 0.97468354, 0.98734177,        nan,        nan,\n",
       "        0.97468354, 0.97468354]),\n",
       " 'mean_test_score': array([0.92674051, 0.94439873, 0.95202532, 0.94949367, 0.94439873,\n",
       "        0.94949367, 0.94693038, 0.94439873, 0.92167722, 0.90142405,\n",
       "        0.91914557, 0.91917722, 0.91661392, 0.92420886, 0.92170886,\n",
       "        0.92424051,        nan,        nan, 0.96971519, 0.95705696,\n",
       "               nan,        nan, 0.96212025, 0.96971519,        nan,\n",
       "               nan, 0.93939873, 0.95708861,        nan,        nan,\n",
       "        0.94193038, 0.94699367]),\n",
       " 'std_test_score': array([0.04270276, 0.04504128, 0.02580665, 0.02401863, 0.03810363,\n",
       "        0.04159995, 0.03707419, 0.04133105, 0.06069435, 0.0563691 ,\n",
       "        0.03896519, 0.04845457, 0.0457812 , 0.05067344, 0.05214038,\n",
       "        0.0582841 ,        nan,        nan, 0.0260379 , 0.02059142,\n",
       "               nan,        nan, 0.02118212, 0.0220385 ,        nan,\n",
       "               nan, 0.0333842 , 0.03803455,        nan,        nan,\n",
       "        0.02949836, 0.03521769]),\n",
       " 'rank_test_score': array([16, 11,  6,  7, 11,  7, 10, 11, 20, 24, 22, 21, 23, 18, 19, 17, 25,\n",
       "        26,  1,  5, 27, 28,  3,  1, 29, 30, 15,  4, 31, 32, 14,  9],\n",
       "       dtype=int32)}"
      ]
     },
     "execution_count": 30,
     "metadata": {
     },
     "output_type": "execute_result"
    }
   ],
   "source": [
    "clf.cv_results_"
   ]
  },
  {
   "cell_type": "markdown",
   "metadata": {
    "collapsed": false
   },
   "source": [
    "# **The best model turns out to be a RandomForestClassifier instance with n\\_estimators = \\(50\\), bootstrap = \\(False\\), min\\_samples\\_leaf = \\(5\\), oob\\_score = \\(False\\), warm\\_start = \\(True\\).**\n",
    "\n"
   ]
  },
  {
   "cell_type": "code",
   "execution_count": 31,
   "metadata": {
    "collapsed": false
   },
   "outputs": [
   ],
   "source": [
    "Best_Model = RandomForestClassifier(n_estimators = (50), bootstrap = (False), min_samples_leaf = (5), oob_score = (False), warm_start = (True))"
   ]
  },
  {
   "cell_type": "code",
   "execution_count": 32,
   "metadata": {
    "collapsed": false
   },
   "outputs": [
   ],
   "source": [
    "y = df[\"target\"]\n",
    "x = df.drop(\"target\", axis = 1)\n",
    "x_train, x_test, y_train, y_test = train_test_split(x, y, test_size=0.2, random_state = 42)\n"
   ]
  },
  {
   "cell_type": "code",
   "execution_count": 33,
   "metadata": {
    "collapsed": false
   },
   "outputs": [
   ],
   "source": [
    "x_best_train = scaler.fit_transform(x_train)\n",
    "x_best_test = scaler.transform(x_test)\n",
    "Best_Model.fit(x_best_train, y_train)\n",
    "y_hat_forest = Best_Model.predict(x_best_test)\n"
   ]
  },
  {
   "cell_type": "code",
   "execution_count": 0,
   "metadata": {
    "collapsed": false
   },
   "outputs": [
   ],
   "source": [
   ]
  },
  {
   "cell_type": "markdown",
   "metadata": {
    "collapsed": false
   },
   "source": [
    "# Recall score: recall\\_score\\(y\\_test, y\\_hat\\_forest\\)\n",
    "\n"
   ]
  },
  {
   "cell_type": "code",
   "execution_count": 34,
   "metadata": {
    "collapsed": false
   },
   "outputs": [
    {
     "data": {
      "text/plain": [
       "0.9907407407407407"
      ]
     },
     "execution_count": 34,
     "metadata": {
     },
     "output_type": "execute_result"
    }
   ],
   "source": [
    "recall_score(y_test, y_hat_forest)"
   ]
  },
  {
   "cell_type": "code",
   "execution_count": 35,
   "metadata": {
    "collapsed": false
   },
   "outputs": [
    {
     "data": {
      "text/plain": [
       "<AxesSubplot:>"
      ]
     },
     "execution_count": 35,
     "metadata": {
     },
     "output_type": "execute_result"
    },
    {
     "data": {
      "image/png": "[encoded data removed]",
      "text/plain": [
       "<Figure size 432x288 with 2 Axes>"
      ]
     },
     "execution_count": 35,
     "metadata": {
      "needs_background": "light"
     },
     "output_type": "execute_result"
    }
   ],
   "source": [
    "# Heatmap\n",
    "sns.heatmap(confusion_matrix(y_test, y_hat_forest), annot=True, fmt='g')"
   ]
  },
  {
   "cell_type": "code",
   "execution_count": 0,
   "metadata": {
    "collapsed": false
   },
   "outputs": [
   ],
   "source": [
   ]
  }
 ],
 "metadata": {
  "kernelspec": {
   "display_name": "Python (ds_env)",
   "language": "python",
   "metadata": {
    "debugger": true
   },
   "name": "ds_env",
   "resource_dir": "/projects/789aa3e5-de8c-43a9-9498-6199f18e94f7/.local/share/jupyter/kernels/ds_env"
  },
  "language_info": {
   "codemirror_mode": {
    "name": "ipython",
    "version": 3
   },
   "file_extension": ".py",
   "mimetype": "text/x-python",
   "name": "python",
   "nbconvert_exporter": "python",
   "pygments_lexer": "ipython3",
   "version": "3.8.13"
  }
 },
 "nbformat": 4,
 "nbformat_minor": 4
}