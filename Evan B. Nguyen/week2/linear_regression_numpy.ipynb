{
 "cells": [
  {
   "cell_type": "markdown",
   "metadata": {
    "collapsed": false,
    "id": "K_X2fB9ta-rv"
   },
   "source": [
    "# Linear regression using NumPy"
   ]
  },
  {
   "cell_type": "code",
   "execution_count": 2,
   "metadata": {
    "collapsed": false,
    "executionInfo": {
     "elapsed": 31,
     "status": "ok",
     "timestamp": 1627498066861,
     "user": {
      "displayName": "Fernanda Murillo",
      "photoUrl": "",
      "userId": "17562885266255337733"
     },
     "user_tz": 600
    },
    "id": "IecuRdF1a-sG"
   },
   "outputs": [
   ],
   "source": [
    "# import libraries \n",
    "import numpy as np\n",
    "import matplotlib.pyplot as plt"
   ]
  },
  {
   "cell_type": "markdown",
   "metadata": {
    "collapsed": false,
    "id": "JlrQHpg8a-sI"
   },
   "source": [
    "## Data Generation"
   ]
  },
  {
   "cell_type": "code",
   "execution_count": 3,
   "metadata": {
    "collapsed": false,
    "executionInfo": {
     "elapsed": 219,
     "status": "ok",
     "timestamp": 1627498568931,
     "user": {
      "displayName": "Fernanda Murillo",
      "photoUrl": "",
      "userId": "17562885266255337733"
     },
     "user_tz": 600
    },
    "id": "BYHvay0xa-sK"
   },
   "outputs": [
    {
     "data": {
      "text/plain": [
       "array([[1.75778494],\n",
       "       [2.87152788],\n",
       "       [2.47316396],\n",
       "       [1.99856008],\n",
       "       [1.29007009],\n",
       "       [1.3477003 ],\n",
       "       [1.26395663],\n",
       "       [2.68052527],\n",
       "       [2.12138066],\n",
       "       [2.36596945],\n",
       "       [1.1327092 ],\n",
       "       [2.97269482],\n",
       "       [2.61190926],\n",
       "       [1.47600496],\n",
       "       [1.37335769],\n",
       "       [1.46367352],\n",
       "       [1.53827918],\n",
       "       [2.01674665],\n",
       "       [1.82467922],\n",
       "       [1.43610679],\n",
       "       [2.25331782],\n",
       "       [1.30509325],\n",
       "       [1.58480064],\n",
       "       [1.70926497],\n",
       "       [1.77060289],\n",
       "       [2.52828739],\n",
       "       [1.36507611],\n",
       "       [1.94824115],\n",
       "       [2.16870057],\n",
       "       [1.13330591],\n",
       "       [2.40370829],\n",
       "       [1.35850603],\n",
       "       [1.15585823],\n",
       "       [2.89032648],\n",
       "       [2.73938694],\n",
       "       [2.61414331],\n",
       "       [1.61525056],\n",
       "       [1.44166844],\n",
       "       [2.34922996],\n",
       "       [1.91045972],\n",
       "       [1.24060529],\n",
       "       [1.87348602],\n",
       "       [1.18305932],\n",
       "       [2.89383411],\n",
       "       [1.59666316],\n",
       "       [2.23410582],\n",
       "       [1.76370158],\n",
       "       [1.89995094],\n",
       "       [2.15210627],\n",
       "       [1.58875447],\n",
       "       [2.84011562],\n",
       "       [2.49363587],\n",
       "       [2.88896302],\n",
       "       [2.73930714],\n",
       "       [2.04073361],\n",
       "       [2.85060477],\n",
       "       [1.07075463],\n",
       "       [1.43932497],\n",
       "       [0.99851215],\n",
       "       [1.8056541 ],\n",
       "       [1.69902925],\n",
       "       [1.51049191],\n",
       "       [2.73882674],\n",
       "       [1.59042022],\n",
       "       [1.58461501],\n",
       "       [2.21610644],\n",
       "       [1.12110013],\n",
       "       [2.62285735],\n",
       "       [1.17508957],\n",
       "       [3.05195616],\n",
       "       [2.42079447],\n",
       "       [1.2653857 ],\n",
       "       [1.06323839],\n",
       "       [2.66062132],\n",
       "       [2.43876397],\n",
       "       [2.49265916],\n",
       "       [2.47453822],\n",
       "       [1.17131467],\n",
       "       [1.7462387 ],\n",
       "       [1.16030298],\n",
       "       [2.9127843 ],\n",
       "       [2.29397955],\n",
       "       [1.5426657 ],\n",
       "       [1.19277206],\n",
       "       [1.52449648],\n",
       "       [1.7290751 ],\n",
       "       [2.57507191],\n",
       "       [2.19304671],\n",
       "       [2.8707631 ],\n",
       "       [1.98570794],\n",
       "       [1.32139451],\n",
       "       [2.61616887],\n",
       "       [2.49703129],\n",
       "       [2.04718078],\n",
       "       [2.45298292],\n",
       "       [1.90601016],\n",
       "       [2.03775549],\n",
       "       [1.88919723],\n",
       "       [1.07850733],\n",
       "       [1.29850118]])"
      ]
     },
     "execution_count": 3,
     "metadata": {
     },
     "output_type": "execute_result"
    }
   ],
   "source": [
    "# initialize your random seed to ensure reproducibility of your result\n",
    "np.random.seed(42) # Why 42 (It works well for computer science) - https://medium.com/@leticia.b/the-story-of-seed-42-874953452b94\n",
    "\n",
    "# randomly generate x which is a vector of 100 points \n",
    "x = np.random.rand(100, 1)\n",
    "\n",
    "# define exact linear function y = 1 + 2x + epsilon where epsilon (0.1*random numbers)\n",
    "y = 1 + 2 * x + .1 * np.random.randn(100, 1)\n",
    "y"
   ]
  },
  {
   "cell_type": "markdown",
   "metadata": {
    "collapsed": false,
    "id": "irEOBQoca-sL"
   },
   "source": [
    "## split data into train and validation sets (80/20)"
   ]
  },
  {
   "cell_type": "code",
   "execution_count": 4,
   "metadata": {
    "collapsed": false,
    "executionInfo": {
     "elapsed": 235,
     "status": "ok",
     "timestamp": 1627498579768,
     "user": {
      "displayName": "Fernanda Murillo",
      "photoUrl": "",
      "userId": "17562885266255337733"
     },
     "user_tz": 600
    },
    "id": "_ntl2sX3a-sL"
   },
   "outputs": [
   ],
   "source": [
    "# Shuffles the indices\n",
    "idx = np.arange(100)\n",
    "np.random.shuffle(idx)\n",
    "\n",
    "# Uses first 80 random indices for train\n",
    "train_idx = idx[:80]\n",
    "\n",
    "# Uses the remaining indices for validation\n",
    "val_idx = idx[80:]\n",
    "\n",
    "# Generates train and validation sets\n",
    "x_train, y_train = x[train_idx], y[train_idx]\n",
    "x_val, y_val = x[val_idx], y[val_idx]\n"
   ]
  },
  {
   "cell_type": "markdown",
   "metadata": {
    "collapsed": false,
    "id": "DCCwyhkya-sM"
   },
   "source": [
    "## plot the train and validation sets"
   ]
  },
  {
   "cell_type": "code",
   "execution_count": 5,
   "metadata": {
    "colab": {
     "base_uri": "https://localhost:8080/",
     "height": 359
    },
    "collapsed": false,
    "executionInfo": {
     "elapsed": 524,
     "status": "ok",
     "timestamp": 1627498583872,
     "user": {
      "displayName": "Fernanda Murillo",
      "photoUrl": "",
      "userId": "17562885266255337733"
     },
     "user_tz": 600
    },
    "id": "W1JhyZ_Na-sM",
    "outputId": "909f5fd9-c203-45cf-d41f-58b09bb727ef"
   },
   "outputs": [
    {
     "data": {
      "image/png": "[encoded data removed]",
      "text/plain": [
       "<Figure size 720x360 with 2 Axes>"
      ]
     },
     "execution_count": 5,
     "metadata": {
      "needs_background": "light"
     },
     "output_type": "execute_result"
    }
   ],
   "source": [
    "plt.figure(figsize=(10,5))\n",
    "\n",
    "# plot the train set \n",
    "plt.subplot(1,2,1)\n",
    "plt.scatter(x_train,y_train, c='orange')  \n",
    "plt.xlabel('x', fontsize = 20) \n",
    "plt.ylabel('y', fontsize = 20)\n",
    "plt.title('Generated Data - Train')\n",
    "plt.grid('on')\n",
    "\n",
    "# plot the validation set \n",
    "plt.subplot(1,2,2)\n",
    "plt.scatter(x_val,x_val)  \n",
    "plt.xlabel('x', fontsize = 20) \n",
    "plt.ylabel('y', fontsize = 20)\n",
    "plt.title('Generated Data - Test')\n",
    "plt.grid('on')\n",
    "\n",
    "plt.show()"
   ]
  },
  {
   "cell_type": "markdown",
   "metadata": {
    "collapsed": false,
    "id": "gi4pQP8Ia-sO"
   },
   "source": [
    "## linear regression using numpy "
   ]
  },
  {
   "cell_type": "code",
   "execution_count": 6,
   "metadata": {
    "colab": {
     "base_uri": "https://localhost:8080/"
    },
    "collapsed": false,
    "executionInfo": {
     "elapsed": 241,
     "status": "ok",
     "timestamp": 1627498594869,
     "user": {
      "displayName": "Fernanda Murillo",
      "photoUrl": "",
      "userId": "17562885266255337733"
     },
     "user_tz": 600
    },
    "id": "MjeQPrOKa-sP",
    "outputId": "fe881c09-932e-46f0-9f40-79b6b5c69617"
   },
   "outputs": [
    {
     "name": "stdout",
     "output_type": "stream",
     "text": [
      "[0.49671415] [-0.1382643]\n"
     ]
    }
   ],
   "source": [
    "# initialize your random seed to ensure reproducibility of your result\n",
    "np.random.seed(42)\n",
    "\n",
    "# Initializes parameters \"a\" and \"b\" randomly - they don't need to be good yet\n",
    "a = np.random.randn(1)\n",
    "b = np.random.randn(1)\n",
    "\n",
    "# print values of a and b \n",
    "print(a, b)\n"
   ]
  },
  {
   "cell_type": "code",
   "execution_count": 7,
   "metadata": {
    "collapsed": false,
    "executionInfo": {
     "elapsed": 240,
     "status": "ok",
     "timestamp": 1627498605594,
     "user": {
      "displayName": "Fernanda Murillo",
      "photoUrl": "",
      "userId": "17562885266255337733"
     },
     "user_tz": 600
    },
    "id": "xaIPfjB1a-sP"
   },
   "outputs": [
   ],
   "source": [
    "# Initialization of hyper-parameters (in our case, only learning rate and number of epochs)\n",
    "\n",
    "# Sets learning rate (how much the AI conforms to each set of feedbacks)\n",
    "lr = 1e-1\n",
    "# Defines number of epochs (how many times training is repeated)\n",
    "n_epochs = 1000"
   ]
  },
  {
   "cell_type": "markdown",
   "metadata": {
    "collapsed": false,
    "id": "Tmk5nl_Va-sQ"
   },
   "source": [
    "### For each epoch, there are 5 training steps:\n",
    "* Compute model’s predictions \n",
    "* Compute the error (the difference between the actual value and predicted value) \n",
    "* Compute the loss ( mean square error = the average of (error)^2)\n",
    "* Compute the gradients for every parameter (require calculus)\n",
    "* Update the parameters a and b"
   ]
  },
  {
   "cell_type": "code",
   "execution_count": 8,
   "metadata": {
    "colab": {
     "base_uri": "https://localhost:8080/"
    },
    "collapsed": false,
    "executionInfo": {
     "elapsed": 230,
     "status": "ok",
     "timestamp": 1627499222901,
     "user": {
      "displayName": "Fernanda Murillo",
      "photoUrl": "",
      "userId": "17562885266255337733"
     },
     "user_tz": 600
    },
    "id": "IEGhbnhoa-sQ",
    "outputId": "6df14990-801c-4030-bd27-e2c19b95c577"
   },
   "outputs": [
    {
     "name": "stdout",
     "output_type": "stream",
     "text": [
      "[1.02354094] [1.96896411]\n"
     ]
    }
   ],
   "source": [
    "for epoch in range(n_epochs):\n",
    "    # Computes our model's predicted output\n",
    "    yhat = a + b * x_train\n",
    "    \n",
    "    # How wrong is our model? That's the error! \n",
    "    error = (y_train - yhat)\n",
    "    \n",
    "    # It is a regression, so it computes mean squared error (MSE)\n",
    "    loss = (error ** 2).mean()\n",
    "    \n",
    "    # Computes gradients for both \"a\" and \"b\" parameters\n",
    "    a_grad = -2 * error.mean()\n",
    "    b_grad = -2 * (x_train * error).mean()\n",
    "    \n",
    "    # Updates parameters using gradients and the learning rate\n",
    "    a = a - lr * a_grad\n",
    "    b = b - lr * b_grad\n",
    "    \n",
    "print(a, b)"
   ]
  },
  {
   "cell_type": "code",
   "execution_count": 15,
   "metadata": {
    "colab": {
     "base_uri": "https://localhost:8080/",
     "height": 359
    },
    "collapsed": false,
    "executionInfo": {
     "elapsed": 229,
     "status": "ok",
     "timestamp": 1627499225902,
     "user": {
      "displayName": "Fernanda Murillo",
      "photoUrl": "",
      "userId": "17562885266255337733"
     },
     "user_tz": 600
    },
    "id": "V9wnGeT_eou8",
    "outputId": "1dc573e8-ebd4-4861-94e0-ff1a6d4229d3"
   },
   "outputs": [
    {
     "data": {
      "image/png": "[encoded data removed]",
      "text/plain": [
       "<Figure size 720x360 with 1 Axes>"
      ]
     },
     "execution_count": 15,
     "metadata": {
      "needs_background": "light",
      "tags": [
      ]
     },
     "output_type": "execute_result"
    }
   ],
   "source": [
    "plt.figure(figsize=(10,5))\n",
    "y_vals = b + a * x_val\n",
    "plt.plot(x_val, y_vals, '--')\n",
    "\n",
    "plt.scatter(x_val,y_val, c='orange')  \n",
    "plt.xlabel('x', fontsize = 20) \n",
    "plt.ylabel('y', fontsize = 20)\n",
    "plt.title('Generated Data - Train')\n",
    "plt.grid('on')\n",
    "plt.show()"
   ]
  },
  {
   "cell_type": "markdown",
   "metadata": {
    "collapsed": false,
    "id": "cbeaQMpna-sR"
   },
   "source": [
    "## check our results use Scikit-learn's linear regression\n",
    "\n",
    "Just to make sure we haven’t done any mistakes in our code, we can use Scikit-Learn’s Linear Regression to fit the model and compare the coefficients.\n",
    "\n",
    "https://scikit-learn.org/stable/modules/generated/sklearn.linear_model.LinearRegression.html"
   ]
  },
  {
   "cell_type": "code",
   "execution_count": 9,
   "metadata": {
    "colab": {
     "base_uri": "https://localhost:8080/"
    },
    "collapsed": false,
    "executionInfo": {
     "elapsed": 885,
     "status": "ok",
     "timestamp": 1627498630865,
     "user": {
      "displayName": "Fernanda Murillo",
      "photoUrl": "",
      "userId": "17562885266255337733"
     },
     "user_tz": 600
    },
    "id": "jkPf0bt4a-sV",
    "outputId": "422ab4c2-fceb-490e-ca2d-b45f09b26cff"
   },
   "outputs": [
    {
     "name": "stdout",
     "output_type": "stream",
     "text": [
      "[1.02354075] [1.96896447]\n"
     ]
    }
   ],
   "source": [
    "from sklearn.linear_model import LinearRegression\n",
    "linr = LinearRegression()\n",
    "linr.fit(x_train, y_train)\n",
    "print(linr.intercept_, linr.coef_[0])"
   ]
  },
  {
   "cell_type": "markdown",
   "metadata": {
    "collapsed": false,
    "id": "yE4V3P9aa-sX"
   },
   "source": [
    "## The results!\n",
    "\n",
    "They match up to 6 decimal places — we have a fully working implementation of linear regression using Numpy."
   ]
  },
  {
   "cell_type": "code",
   "execution_count": 0,
   "metadata": {
    "collapsed": false,
    "id": "owTTVO4Ba-sY"
   },
   "outputs": [
   ],
   "source": [
   ]
  },
  {
   "cell_type": "code",
   "execution_count": 0,
   "metadata": {
    "collapsed": false,
    "id": "l5xP_R3ya-sZ"
   },
   "outputs": [
   ],
   "source": [
   ]
  },
  {
   "cell_type": "code",
   "execution_count": 0,
   "metadata": {
    "collapsed": false,
    "id": "8vkl-uJMa-sZ"
   },
   "outputs": [
   ],
   "source": [
   ]
  },
  {
   "cell_type": "code",
   "execution_count": 0,
   "metadata": {
    "collapsed": false,
    "id": "mdxlUKLka-sZ"
   },
   "outputs": [
   ],
   "source": [
   ]
  },
  {
   "cell_type": "code",
   "execution_count": 0,
   "metadata": {
    "collapsed": false,
    "id": "bUuZFIRxa-sZ"
   },
   "outputs": [
   ],
   "source": [
   ]
  },
  {
   "cell_type": "code",
   "execution_count": 0,
   "metadata": {
    "collapsed": false,
    "id": "7ubqNNVxa-sZ"
   },
   "outputs": [
   ],
   "source": [
   ]
  },
  {
   "cell_type": "code",
   "execution_count": 0,
   "metadata": {
    "collapsed": false,
    "id": "VPv4Rha8a-sa"
   },
   "outputs": [
   ],
   "source": [
   ]
  },
  {
   "cell_type": "code",
   "execution_count": 0,
   "metadata": {
    "collapsed": false,
    "id": "cvxyHdHha-sa"
   },
   "outputs": [
   ],
   "source": [
   ]
  },
  {
   "cell_type": "code",
   "execution_count": 0,
   "metadata": {
    "collapsed": false,
    "id": "ox6WlPb7a-sa"
   },
   "outputs": [
   ],
   "source": [
   ]
  }
 ],
 "metadata": {
  "colab": {
   "name": "linear_regression_numpy_tutorial.ipynb",
   "provenance": [
   ]
  },
  "kernelspec": {
   "display_name": "Python (ds_env)",
   "language": "python",
   "metadata": {
    "debugger": true
   },
   "name": "ds_env",
   "resource_dir": "/projects/789aa3e5-de8c-43a9-9498-6199f18e94f7/.local/share/jupyter/kernels/ds_env"
  },
  "language_info": {
   "codemirror_mode": {
    "name": "ipython",
    "version": 3
   },
   "file_extension": ".py",
   "mimetype": "text/x-python",
   "name": "python",
   "nbconvert_exporter": "python",
   "pygments_lexer": "ipython3",
   "version": "3.8.13"
  }
 },
 "nbformat": 4,
 "nbformat_minor": 4
}